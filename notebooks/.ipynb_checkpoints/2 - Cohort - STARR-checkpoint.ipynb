{
 "cells": [
  {
   "cell_type": "markdown",
   "metadata": {},
   "source": [
    "# Build cohort: STARR "
   ]
  },
  {
   "cell_type": "code",
   "execution_count": 1,
   "metadata": {},
   "outputs": [],
   "source": [
    "import os\n",
    "os.chdir('/share/pi/boussard/eroosli_work/benchmarking')\n",
    "\n",
    "import numpy as np\n",
    "import pandas as pd\n",
    "import argparse\n",
    "import os\n",
    "import imp\n",
    "import re\n",
    "import sys\n",
    "import time\n",
    "from datetime import datetime\n",
    "\n",
    "from benchmarks.starr.utils import create_listfile\n",
    "from benchmarks.starr.tools import time_range, analyse_listfile, analyse_emptylistfile\n",
    "from benchmarks.starr.preprocessing import clean_stays, clean_labs, clean_vitals"
   ]
  },
  {
   "cell_type": "code",
   "execution_count": 4,
   "metadata": {},
   "outputs": [],
   "source": [
    "stays = pd.read_csv('data/starr/stays.tsv', sep='\\t')\n",
    "labs = pd.read_csv('data/starr/labs.tsv', sep='\\t')\n",
    "vitals = pd.read_csv('data/starr/vitals.tsv', sep='\\t', low_memory=False)"
   ]
  },
  {
   "cell_type": "markdown",
   "metadata": {},
   "source": [
    "## Time ranges covered by data"
   ]
  },
  {
   "cell_type": "code",
   "execution_count": 5,
   "metadata": {},
   "outputs": [
    {
     "name": "stdout",
     "output_type": "stream",
     "text": [
      "stays data from 2014-11-10 16:05:00 to 2019-08-06 19:55:00 (4.74 years)\n",
      "labs data from 2014-11-10 16:05:00 to 2019-07-15 12:38:00 (4.68 years)\n",
      "vitals data from 2014-11-10 16:05:00 to 2019-07-29 16:58:00 (4.72 years)\n"
     ]
    }
   ],
   "source": [
    "time_range(labs, stays, vitals)"
   ]
  },
  {
   "cell_type": "markdown",
   "metadata": {},
   "source": [
    "## Table sizes"
   ]
  },
  {
   "cell_type": "code",
   "execution_count": 11,
   "metadata": {},
   "outputs": [
    {
     "name": "stdout",
     "output_type": "stream",
     "text": [
      "SIZES\n",
      "stays: 6426\n",
      "number of unique patients: 6085\n",
      "number of stays after the end of labs and vitals collection: 43\n",
      "labs: 254649\n",
      "vitals: 1737472\n"
     ]
    }
   ],
   "source": [
    "print('SIZES')\n",
    "print('stays:', stays.shape[0])\n",
    "print('number of unique patients:', stays['pat_deid'].unique().shape[0])\n",
    "print('number of stays after the end of labs and vitals collection: {}'.format(stays[stays['hosp_out'] > '2019-07-15 12:38:00'].shape[0]))\n",
    "print('labs:', labs.shape[0])\n",
    "print('vitals:', vitals.shape[0])"
   ]
  },
  {
   "cell_type": "markdown",
   "metadata": {},
   "source": [
    "## Final script"
   ]
  },
  {
   "cell_type": "code",
   "execution_count": 2,
   "metadata": {},
   "outputs": [
    {
     "name": "stdout",
     "output_type": "stream",
     "text": [
      "--------------------------------------------------------------------------------\n",
      "CLEAN STAYS\n",
      "number of stays with height data: 5688\n",
      "number of stays with weight data: 5923\n",
      "number additional measures for Height: 95\n",
      "number additional measures for Weight: 179\n",
      "--------------------------------------------------------------------------------\n",
      "CLEAN LABS\n",
      "removed 426 lab measures with missing value\n",
      "--------------------------------------------------------------------------------\n",
      "CLEAN VITALS\n",
      "removed 3863 vitals measures with missing value\n",
      "removed remaining 3800 heights and 6497 weights measures from vitals\n",
      "--------------------------------------------------------------------------------\n",
      "PROCESSING ICU STAY 6426 OF 6426..."
     ]
    }
   ],
   "source": [
    "%run benchmarks/starr/scripts/create_timeseries.py -p \"benchmarks/starr/sql/params.json\" -v"
   ]
  },
  {
   "cell_type": "markdown",
   "metadata": {},
   "source": [
    "### Analyse listfiles"
   ]
  },
  {
   "cell_type": "code",
   "execution_count": 4,
   "metadata": {},
   "outputs": [
    {
     "name": "stdout",
     "output_type": "stream",
     "text": [
      "number of patients with no datapoints: 0\n",
      "earliest hospitalization date with no data: nan\n",
      "number of empty files in 2019 and 2020: 0\n",
      "number of empty files after last vital/lab event: 0\n"
     ]
    }
   ],
   "source": [
    "analyse_emptylistfile('data/starr/ihm', verbose=True)"
   ]
  },
  {
   "cell_type": "code",
   "execution_count": 2,
   "metadata": {},
   "outputs": [
    {
     "name": "stdout",
     "output_type": "stream",
     "text": [
      "average IHM: 0.1018\n"
     ]
    }
   ],
   "source": [
    "analyse_listfile('data/starr/ihm')"
   ]
  },
  {
   "cell_type": "markdown",
   "metadata": {},
   "source": [
    "### Split into train, test and validation sets"
   ]
  },
  {
   "cell_type": "code",
   "execution_count": 2,
   "metadata": {},
   "outputs": [],
   "source": [
    "%run benchmarks/starr/scripts/split_train_test_val.py \"data/starr/ihm\""
   ]
  }
 ],
 "metadata": {
  "kernelspec": {
   "display_name": "eroosli_env",
   "language": "python",
   "name": "eroosli_env"
  },
  "language_info": {
   "codemirror_mode": {
    "name": "ipython",
    "version": 3
   },
   "file_extension": ".py",
   "mimetype": "text/x-python",
   "name": "python",
   "nbconvert_exporter": "python",
   "pygments_lexer": "ipython3",
   "version": "3.7.3"
  }
 },
 "nbformat": 4,
 "nbformat_minor": 2
}

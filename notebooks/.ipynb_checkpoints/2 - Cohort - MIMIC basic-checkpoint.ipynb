{
 "cells": [
  {
   "cell_type": "markdown",
   "metadata": {},
   "source": [
    "# Build cohort: MIMIC BASIC"
   ]
  },
  {
   "cell_type": "code",
   "execution_count": 1,
   "metadata": {},
   "outputs": [],
   "source": [
    "import warnings\n",
    "import os\n",
    "warnings.filterwarnings('ignore')\n",
    "os.getcwd()\n",
    "os.chdir('/share/pi/boussard/eroosli_work/benchmarking')"
   ]
  },
  {
   "cell_type": "markdown",
   "metadata": {},
   "source": [
    "## Step 1: Extract subjects"
   ]
  },
  {
   "cell_type": "code",
   "execution_count": 3,
   "metadata": {},
   "outputs": [
    {
     "name": "stdout",
     "output_type": "stream",
     "text": [
      "new in extract_subjects.py\n",
      "1. NUMBER OF UNIQUE SAMPLES:                (1) ICUSTAY_ID: 61532  (2) HADM_ID: 57786  (3) SUBJECT_ID: 46476\n",
      "2. AFTER REMOVING ICU TRANSFERS:            (1) ICUSTAY_ID: 55830  (2) HADM_ID: 52834  (3) SUBJECT_ID: 43277\n",
      "3. AFTER REMOVING MULTIPLE STAYS PER ADMIT: (1) ICUSTAY_ID: 50186  (2) HADM_ID: 50186  (3) SUBJECT_ID: 41587\n",
      "4. AFTER REMOVING PATIENTS AGE < 18:        (1) ICUSTAY_ID: 42276  (2) HADM_ID: 42276  (3) SUBJECT_ID: 33798\n",
      "INCLUDED VARIABLES IN STAYS TABLE:\n",
      " ['SUBJECT_ID', 'HADM_ID', 'ICUSTAY_ID', 'LAST_CAREUNIT', 'DBSOURCE', 'INTIME', 'OUTTIME', 'LOS', 'ADMITTIME', 'DISCHTIME', 'DEATHTIME', 'ETHNICITY', 'DIAGNOSIS', 'GENDER', 'DOB', 'DOD', 'AGE', 'MORTALITY_INUNIT', 'MORTALITY', 'MORTALITY_INHOSPITAL']\n",
      "5. WRITE STAYS TO CSV\n",
      "6. GET DIAGNOSIS DATA AND CREATE PHENOTYPES FROM IT\n",
      "8. PREPARE SUBDIRECTORIES AND INDIVIDUAL DATA FILES\n",
      "BREAKING UP STAYS BY SUBJECT:\n",
      "SUBJECT 33798 of 33798...DONE!\n",
      "BREAKING UP DIAGNOSES BY SUBJECT:\n",
      "SUBJECT 33798 of 33798...DONE!\n",
      "finished processing CHARTEVENTS: ROW 330712482 of 330712484...last write (3168090) 287 rows for subject 99781...DONE!\n",
      "finished processing LABEVENTS: ROW 27854054 of 27854056...last write (394668) 73 rows for subject 96442...DONE!\n",
      "finished processing OUTPUTEVENTS: ROW 4349217 of 4349219...last write (351140) 39 rows for subject 68375...DONE!\n"
     ]
    }
   ],
   "source": [
    "%run benchmarks/mimic/scripts/extract_subjects.py ../mimic-iii-clinical-database-1.4 data/mimic/basic"
   ]
  },
  {
   "cell_type": "markdown",
   "metadata": {},
   "source": [
    "## Step 2: Clinical events processing"
   ]
  },
  {
   "cell_type": "markdown",
   "metadata": {},
   "source": [
    "### Step 2a: Filter events with no matches"
   ]
  },
  {
   "cell_type": "code",
   "execution_count": 4,
   "metadata": {},
   "outputs": [
    {
     "name": "stdout",
     "output_type": "stream",
     "text": [
      "finished processing 33798 / 33798\n",
      "STATISTICS OF EVENT VALIDATION:\n",
      "n_events: 503462876\n",
      "empty_hadm: 10312392\n",
      "no_hadm_in_stay: 64157325\n",
      "no_icustay: 31453293\n",
      "recovered: 31453293\n",
      "could_not_recover: 0\n",
      "icustay_missing_in_stays: 14148515\n"
     ]
    }
   ],
   "source": [
    "%run benchmarks/mimic/scripts/validate_events.py data/mimic/basic"
   ]
  },
  {
   "cell_type": "markdown",
   "metadata": {},
   "source": [
    "### Step 2b: Compile timeseries of events \n",
    "Included events are based on 17 physiological variables; a new timeseries is constructed for each individual episode (ICU stay) during a hospitalization "
   ]
  },
  {
   "cell_type": "code",
   "execution_count": 5,
   "metadata": {},
   "outputs": [
    {
     "name": "stdout",
     "output_type": "stream",
     "text": [
      "VARIABLES USED FOR EVENTS DATA: ['Capillary refill rate' 'Diastolic blood pressure'\n",
      " 'Fraction inspired oxygen' 'Glascow coma scale eye opening'\n",
      " 'Glascow coma scale motor response' 'Glascow coma scale total'\n",
      " 'Glascow coma scale verbal response' 'Glucose' 'Heart Rate' 'Height'\n",
      " 'Mean blood pressure' 'Oxygen saturation' 'pH' 'Respiratory rate'\n",
      " 'Systolic blood pressure' 'Temperature' 'Weight']\n",
      "SUBJECT 33802 of 33802..."
     ]
    }
   ],
   "source": [
    "%run benchmarks/mimic/scripts/extract_episodes_from_subjects.py data/mimic/basic"
   ]
  },
  {
   "cell_type": "code",
   "execution_count": 8,
   "metadata": {},
   "outputs": [],
   "source": [
    "def is_subject_folder(x):\n",
    "    return str.isdigit(x)"
   ]
  },
  {
   "cell_type": "code",
   "execution_count": 16,
   "metadata": {},
   "outputs": [],
   "source": [
    "args.subjects_root_path_train = 'data/data_basic/train'\n",
    "args.subjects_root_path_test = 'data/data_basic/test'"
   ]
  },
  {
   "cell_type": "code",
   "execution_count": 18,
   "metadata": {},
   "outputs": [
    {
     "name": "stdout",
     "output_type": "stream",
     "text": [
      "number subjects in train: 28728\n",
      "number subjects in test: 5070\n",
      "total number subjects: 33798\n"
     ]
    }
   ],
   "source": [
    "subdirectories_train = os.listdir(args.subjects_root_path_train)\n",
    "subjects_train = list(filter(is_subject_folder, subdirectories_train))\n",
    "\n",
    "subdirectories_test = os.listdir(args.subjects_root_path_test)\n",
    "subjects_test = list(filter(is_subject_folder, subdirectories_test))\n",
    "\n",
    "nb_patients_train = len(subjects_train)\n",
    "nb_patients_test = len(subjects_test)\n",
    "print('number subjects in train:', nb_patients_train)\n",
    "print('number subjects in test:', nb_patients_test)\n",
    "print('total number subjects:', nb_patients_test+nb_patients_train)"
   ]
  },
  {
   "cell_type": "markdown",
   "metadata": {},
   "source": [
    "Note: there is an error in the subject count of the initial script as it also counts four csv files containing overall statistics and not being part of the patient subdirectories."
   ]
  },
  {
   "cell_type": "markdown",
   "metadata": {},
   "source": [
    "## Step 3: Split into train and test sets"
   ]
  },
  {
   "cell_type": "code",
   "execution_count": 6,
   "metadata": {},
   "outputs": [],
   "source": [
    "%run benchmarks/mimic/scripts/split_train_and_test.py data/mimic/basic"
   ]
  },
  {
   "cell_type": "markdown",
   "metadata": {},
   "source": [
    "## Step 4: Create specific benchmark datasets"
   ]
  },
  {
   "cell_type": "markdown",
   "metadata": {},
   "source": [
    "### Step 4a: In-hospital mortality"
   ]
  },
  {
   "cell_type": "markdown",
   "metadata": {},
   "source": [
    "#### Prepare task-specific train and test set"
   ]
  },
  {
   "cell_type": "code",
   "execution_count": 1,
   "metadata": {},
   "outputs": [
    {
     "name": "stdout",
     "output_type": "stream",
     "text": [
      "PARTITION FOR: test\n",
      "SUBJECT 5070 of 5070...\n",
      "TOTAL NUMBER ICU STAYS: 3236\n",
      "TOTAL NUMBER PATIENTS: 2763\n",
      "GENDER DISTRIBUTION: {1: 1229, 2: 1534, 3: 0, 0: 0}\n",
      "RATIO FEMALES: 0.4448\n",
      "RACE DISTRIBUTION: {0: 419, 1: 54, 2: 226, 3: 95, 4: 1969}\n",
      "AGE DISTRIBUTION: {18: 7, 19: 9, 20: 8, 21: 11, 22: 12, 23: 7, 24: 8, 25: 12, 26: 10, 27: 10, 28: 16, 29: 10, 30: 12, 31: 7, 32: 10, 33: 7, 34: 20, 35: 11, 36: 18, 37: 22, 38: 14, 39: 19, 40: 21, 41: 24, 42: 18, 43: 30, 44: 29, 45: 27, 46: 30, 47: 40, 48: 27, 49: 33, 50: 30, 51: 43, 52: 40, 53: 44, 54: 40, 55: 47, 56: 50, 57: 46, 58: 57, 59: 45, 60: 51, 61: 55, 62: 52, 63: 45, 64: 52, 65: 59, 66: 60, 67: 46, 68: 45, 69: 59, 70: 47, 71: 69, 72: 65, 73: 58, 74: 58, 75: 52, 76: 69, 77: 82, 78: 53, 79: 80, 80: 61, 81: 62, 82: 57, 83: 47, 84: 55, 85: 58, 86: 47, 87: 41, 88: 33, 89: 4, 90: 160}\n",
      "PARTITION FOR: train\n",
      "SUBJECT 28728 of 28728...\n",
      "TOTAL NUMBER ICU STAYS: 17903\n",
      "TOTAL NUMBER PATIENTS: 15331\n",
      "GENDER DISTRIBUTION: {1: 6861, 2: 8470, 3: 0, 0: 0}\n",
      "RATIO FEMALES: 0.4475\n",
      "RACE DISTRIBUTION: {0: 2326, 1: 383, 2: 1254, 3: 472, 4: 10896}\n",
      "AGE DISTRIBUTION: {18: 47, 19: 40, 20: 47, 21: 69, 22: 60, 23: 63, 24: 50, 25: 65, 26: 59, 27: 49, 28: 60, 29: 52, 30: 53, 31: 44, 32: 72, 33: 62, 34: 64, 35: 66, 36: 68, 37: 72, 38: 83, 39: 105, 40: 115, 41: 121, 42: 137, 43: 133, 44: 140, 45: 176, 46: 180, 47: 173, 48: 207, 49: 188, 50: 226, 51: 228, 52: 235, 53: 236, 54: 249, 55: 254, 56: 244, 57: 287, 58: 283, 59: 271, 60: 311, 61: 300, 62: 319, 63: 308, 64: 309, 65: 296, 66: 305, 67: 323, 68: 333, 69: 338, 70: 299, 71: 310, 72: 338, 73: 297, 74: 308, 75: 358, 76: 335, 77: 367, 78: 382, 79: 344, 80: 353, 81: 354, 82: 300, 83: 347, 84: 351, 85: 249, 86: 251, 87: 225, 88: 184, 89: 11, 90: 793}\n"
     ]
    }
   ],
   "source": [
    "%run benchmarks/mimic/scripts/create_in_hospital_mortality.py data/mimic/basic data/mimic/basic/mortality"
   ]
  },
  {
   "cell_type": "markdown",
   "metadata": {},
   "source": [
    "#### Split into train and validation set"
   ]
  },
  {
   "cell_type": "code",
   "execution_count": 3,
   "metadata": {},
   "outputs": [],
   "source": [
    "%run benchmarks/mimic/split_train_val.py data/mimic/basic/mortality"
   ]
  },
  {
   "cell_type": "code",
   "execution_count": null,
   "metadata": {},
   "outputs": [],
   "source": []
  }
 ],
 "metadata": {
  "kernelspec": {
   "display_name": "Python 3",
   "language": "python",
   "name": "python3"
  },
  "language_info": {
   "codemirror_mode": {
    "name": "ipython",
    "version": 3
   },
   "file_extension": ".py",
   "mimetype": "text/x-python",
   "name": "python",
   "nbconvert_exporter": "python",
   "pygments_lexer": "ipython3",
   "version": "3.6.6"
  }
 },
 "nbformat": 4,
 "nbformat_minor": 2
}

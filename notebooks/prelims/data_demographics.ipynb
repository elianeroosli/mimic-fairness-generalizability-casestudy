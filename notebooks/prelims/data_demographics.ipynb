{
 "cells": [
  {
   "cell_type": "markdown",
   "metadata": {},
   "source": [
    "# Data demographics"
   ]
  },
  {
   "cell_type": "code",
   "execution_count": 1,
   "metadata": {},
   "outputs": [],
   "source": [
    "import pandas as pd\n",
    "import sys\n",
    "if sys.version_info[0] == 3:\n",
    "    from importlib import reload\n",
    "import warnings\n",
    "import os\n",
    "os.chdir('/share/pi/boussard/eroosli_work/benchmarking')\n",
    "\n",
    "from benchmarks import demographics as dm\n",
    "\n",
    "warnings.filterwarnings('ignore')"
   ]
  },
  {
   "cell_type": "markdown",
   "metadata": {},
   "source": [
    "## MIMIC - Root cohort"
   ]
  },
  {
   "cell_type": "code",
   "execution_count": 2,
   "metadata": {},
   "outputs": [
    {
     "name": "stdout",
     "output_type": "stream",
     "text": [
      "\n",
      "number subjects in test partition: 5070\n",
      "SUBJECT 5070 of 5070...\n",
      "number subjects in train partition: 28728\n",
      "SUBJECT 28728 of 28728..."
     ]
    }
   ],
   "source": [
    "df_patients_root, df_stays_root = dm.rootcohort_sep_demographics('data/mimic/aug')"
   ]
  },
  {
   "cell_type": "code",
   "execution_count": 3,
   "metadata": {},
   "outputs": [
    {
     "name": "stdout",
     "output_type": "stream",
     "text": [
      "total_self              472 (1.40)\n",
      "total_private         11437 (33.88)\n",
      "total_medicaid         2779 (8.23)\n",
      "total_medicare        18083 (53.56)\n",
      "total_gov               983 (2.91)\n",
      "total_other            4990 (14.78)\n",
      "total_white           24156 (71.55)\n",
      "total_hispanic         1127 (3.34)\n",
      "total_black            2658 (7.87)\n",
      "total_asian             823 (2.44)\n",
      "total_seniors2         1776 (5.26)\n",
      "total_seniors1        12178 (36.07)\n",
      "total_adults3         12579 (37.26)\n",
      "total_adults2          5449 (16.14)\n",
      "total_adults1          1772 (5.25)\n",
      "total_teens               0 (0.00)\n",
      "total_kids                0 (0.00)\n",
      "total_neo                 0 (0.00)\n",
      "total_M               19017 (56.33)\n",
      "total_F               14737 (43.65)\n",
      "total                 33760 (100.00)\n"
     ]
    }
   ],
   "source": [
    "dm.demographic_stats(df_patients_root, report=False)"
   ]
  },
  {
   "cell_type": "markdown",
   "metadata": {},
   "source": [
    "instead of 33798 (diff: 38)"
   ]
  },
  {
   "cell_type": "code",
   "execution_count": 4,
   "metadata": {},
   "outputs": [
    {
     "name": "stdout",
     "output_type": "stream",
     "text": [
      "total_self              503 (1.20)\n",
      "total_private         13455 (32.02)\n",
      "total_medicaid         3745 (8.91)\n",
      "total_medicare        23143 (55.07)\n",
      "total_gov              1173 (2.79)\n",
      "total_other            5414 (12.88)\n",
      "total_white           30071 (71.56)\n",
      "total_hispanic         1475 (3.51)\n",
      "total_black            4062 (9.67)\n",
      "total_asian             997 (2.37)\n",
      "total_seniors2         2231 (5.31)\n",
      "total_seniors1        14871 (35.39)\n",
      "total_adults3         15990 (38.05)\n",
      "total_adults2          6888 (16.39)\n",
      "total_adults1          2039 (4.85)\n",
      "total_teens               0 (0.00)\n",
      "total_kids                0 (0.00)\n",
      "total_neo                 0 (0.00)\n",
      "total_M               23484 (55.88)\n",
      "total_F               18535 (44.10)\n",
      "total                 42025 (100.00)\n"
     ]
    }
   ],
   "source": [
    "dm.demographic_stats(df_stays_root, report=False)"
   ]
  },
  {
   "cell_type": "markdown",
   "metadata": {},
   "source": [
    "instead of 42'276 (diff: 251)"
   ]
  },
  {
   "cell_type": "markdown",
   "metadata": {},
   "source": [
    "## MIMIC - IHM cohort"
   ]
  },
  {
   "cell_type": "markdown",
   "metadata": {},
   "source": [
    "#### Total"
   ]
  },
  {
   "cell_type": "code",
   "execution_count": 2,
   "metadata": {},
   "outputs": [
    {
     "name": "stdout",
     "output_type": "stream",
     "text": [
      "EPISODE 21140 of 21140..."
     ]
    }
   ],
   "source": [
    "reload(dm)\n",
    "mimic_pat_total, mimic_stays_total = dm.mimic_cohort_demographics('data/mimic/aug/mortality', 'total')"
   ]
  },
  {
   "cell_type": "code",
   "execution_count": 3,
   "metadata": {},
   "outputs": [
    {
     "name": "stdout",
     "output_type": "stream",
     "text": [
      "total_otherins          667 (3.69)\n",
      "total_unknown             0 (0.00)\n",
      "total_self              183 (1.01)\n",
      "total_private          5601 (30.96)\n",
      "total_medicaid         1489 (8.23)\n",
      "total_medicare        10337 (57.13)\n",
      "total_gov               484 (2.67)\n",
      "total_other            2758 (15.24)\n",
      "total_white           12851 (71.02)\n",
      "total_hispanic          568 (3.14)\n",
      "total_black            1480 (8.18)\n",
      "total_asian             437 (2.42)\n",
      "total_seniors2          953 (5.27)\n",
      "total_seniors1         7043 (38.92)\n",
      "total_adults3          6636 (36.68)\n",
      "total_adults2          2680 (14.81)\n",
      "total_adults1           782 (4.32)\n",
      "total_teens               0 (0.00)\n",
      "total_kids                0 (0.00)\n",
      "total_neo                 0 (0.00)\n",
      "total_M               10004 (55.29)\n",
      "total_F                8090 (44.71)\n",
      "total                 18094 (100.00)\n"
     ]
    }
   ],
   "source": [
    "reload(dm)\n",
    "dm.demographic_stats(mimic_pat_total, report=False)"
   ]
  },
  {
   "cell_type": "code",
   "execution_count": 25,
   "metadata": {},
   "outputs": [
    {
     "name": "stdout",
     "output_type": "stream",
     "text": [
      "total_otherins          714 (3.4)\n",
      "total_private          6326 (29.9)\n",
      "total_medicaid         1813 (8.6)\n",
      "total_medicare        12286 (58.1)\n",
      "total_other            2909 (13.8)\n",
      "total_white           15043 (71.2)\n",
      "total_hispanic          679 (3.2)\n",
      "total_black            2016 (9.5)\n",
      "total_asian             492 (2.3)\n",
      "total_seniors2         1109 (5.2)\n",
      "total_seniors1         8065 (38.2)\n",
      "total_adults3          7921 (37.5)\n",
      "total_adults2          3171 (15.0)\n",
      "total_adults1           873 (4.1)\n",
      "total_M               11629 (55.0)\n",
      "total_F                9510 (45.0)\n",
      "total                 21139 (100.0)\n",
      "FOR REPORTING:\n",
      "714 (3.4)\n",
      "6326 (29.9)\n",
      "1813 (8.6)\n",
      "12286 (58.1)\n",
      "2909 (13.8)\n",
      "15043 (71.2)\n",
      "679 (3.2)\n",
      "2016 (9.5)\n",
      "492 (2.3)\n",
      "1109 (5.2)\n",
      "8065 (38.2)\n",
      "7921 (37.5)\n",
      "3171 (15.0)\n",
      "873 (4.1)\n",
      "11629 (55.0)\n",
      "9510 (45.0)\n",
      "21139 (100.0)\n"
     ]
    }
   ],
   "source": [
    "reload(dm)\n",
    "dm.demographic_stats(mimic_stays_total, report=True)"
   ]
  },
  {
   "cell_type": "code",
   "execution_count": 5,
   "metadata": {},
   "outputs": [
    {
     "name": "stdout",
     "output_type": "stream",
     "text": [
      "ihm_otherins     11.62\n",
      "ihm_unknown       nan\n",
      "ihm_self         16.93\n",
      "ihm_private      10.18\n",
      "ihm_medicaid     10.31\n",
      "ihm_medicare     15.33\n",
      "ihm_gov          9.71\n",
      "ihm_other        18.73\n",
      "ihm_white        12.92\n",
      "ihm_hispanic     8.10\n",
      "ihm_black        9.23\n",
      "ihm_asian        13.82\n",
      "ihm_seniors2     21.82\n",
      "ihm_seniors1     16.50\n",
      "ihm_adults3      11.12\n",
      "ihm_adults2      9.27\n",
      "ihm_adults1      5.61\n",
      "ihm_teens         nan\n",
      "ihm_kids          nan\n",
      "ihm_neo           nan\n",
      "ihm_M            13.02\n",
      "ihm_F            13.49\n",
      "ihm_total_ratio  15.25\n",
      "ihm_total        13.23\n",
      "FOR REPORTING:\n",
      "11.6\\%\n",
      " nan\\%\n",
      "16.9\\%\n",
      "10.2\\%\n",
      "10.3\\%\n",
      "15.3\\%\n",
      " 9.7\\%\n",
      "18.7\\%\n",
      "12.9\\%\n",
      " 8.1\\%\n",
      " 9.2\\%\n",
      "13.8\\%\n",
      "21.8\\%\n",
      "16.5\\%\n",
      "11.1\\%\n",
      " 9.3\\%\n",
      " 5.6\\%\n",
      " nan\\%\n",
      " nan\\%\n",
      " nan\\%\n",
      "13.0\\%\n",
      "13.5\\%\n",
      "15.2\\%\n",
      "13.2\\%\n"
     ]
    }
   ],
   "source": [
    "reload(dm)\n",
    "dm.IHM_stats(mimic_stays_total, report=True)"
   ]
  },
  {
   "cell_type": "markdown",
   "metadata": {},
   "source": [
    "#### Train"
   ]
  },
  {
   "cell_type": "code",
   "execution_count": 6,
   "metadata": {},
   "outputs": [
    {
     "name": "stdout",
     "output_type": "stream",
     "text": [
      "chosen option: train\n",
      "EPISODE 14681 of 14681..."
     ]
    }
   ],
   "source": [
    "mimic_pat_train, mimic_stays_train = dm.mimic_cohort_demographics('data/mimic/aug/mortality', 'train')"
   ]
  },
  {
   "cell_type": "code",
   "execution_count": 26,
   "metadata": {},
   "outputs": [
    {
     "name": "stdout",
     "output_type": "stream",
     "text": [
      "total_otherins          489 (3.3)\n",
      "total_private          4323 (29.4)\n",
      "total_medicaid         1297 (8.8)\n",
      "total_medicare         8572 (58.4)\n",
      "total_other            2021 (13.8)\n",
      "total_white           10423 (71.0)\n",
      "total_hispanic          472 (3.2)\n",
      "total_black            1415 (9.6)\n",
      "total_asian             350 (2.4)\n",
      "total_seniors2          765 (5.2)\n",
      "total_seniors1         5590 (38.1)\n",
      "total_adults3          5586 (38.0)\n",
      "total_adults2          2150 (14.6)\n",
      "total_adults1           590 (4.0)\n",
      "total_M                8059 (54.9)\n",
      "total_F                6622 (45.1)\n",
      "total                 14681 (100.0)\n",
      "FOR REPORTING:\n",
      "489 (3.3)\n",
      "4323 (29.4)\n",
      "1297 (8.8)\n",
      "8572 (58.4)\n",
      "2021 (13.8)\n",
      "10423 (71.0)\n",
      "472 (3.2)\n",
      "1415 (9.6)\n",
      "350 (2.4)\n",
      "765 (5.2)\n",
      "5590 (38.1)\n",
      "5586 (38.0)\n",
      "2150 (14.6)\n",
      "590 (4.0)\n",
      "8059 (54.9)\n",
      "6622 (45.1)\n",
      "14681 (100.0)\n"
     ]
    }
   ],
   "source": [
    "reload(dm)\n",
    "dm.demographic_stats(mimic_stays_train, report=True)"
   ]
  },
  {
   "cell_type": "code",
   "execution_count": 8,
   "metadata": {},
   "outputs": [
    {
     "name": "stdout",
     "output_type": "stream",
     "text": [
      "ihm_otherins     11.86\n",
      "ihm_unknown       nan\n",
      "ihm_self         17.46\n",
      "ihm_private      10.53\n",
      "ihm_medicaid     10.49\n",
      "ihm_medicare     15.61\n",
      "ihm_gov          9.92\n",
      "ihm_other        19.84\n",
      "ihm_white        13.11\n",
      "ihm_hispanic     8.47\n",
      "ihm_black        9.05\n",
      "ihm_asian        14.86\n",
      "ihm_seniors2     21.44\n",
      "ihm_seniors1     16.99\n",
      "ihm_adults3      11.31\n",
      "ihm_adults2      9.44\n",
      "ihm_adults1      6.44\n",
      "ihm_teens         nan\n",
      "ihm_kids          nan\n",
      "ihm_neo           nan\n",
      "ihm_M            13.31\n",
      "ihm_F            13.80\n",
      "ihm_total_ratio  15.65\n",
      "ihm_total        13.53\n",
      "FOR REPORTING:\n",
      "11.9\\%\n",
      " nan\\%\n",
      "17.5\\%\n",
      "10.5\\%\n",
      "10.5\\%\n",
      "15.6\\%\n",
      " 9.9\\%\n",
      "19.8\\%\n",
      "13.1\\%\n",
      " 8.5\\%\n",
      " 9.0\\%\n",
      "14.9\\%\n",
      "21.4\\%\n",
      "17.0\\%\n",
      "11.3\\%\n",
      " 9.4\\%\n",
      " 6.4\\%\n",
      " nan\\%\n",
      " nan\\%\n",
      " nan\\%\n",
      "13.3\\%\n",
      "13.8\\%\n",
      "15.7\\%\n",
      "13.5\\%\n"
     ]
    }
   ],
   "source": [
    "dm.IHM_stats(mimic_stays_train, report=True)"
   ]
  },
  {
   "cell_type": "markdown",
   "metadata": {},
   "source": [
    "#### Test"
   ]
  },
  {
   "cell_type": "code",
   "execution_count": 9,
   "metadata": {},
   "outputs": [
    {
     "name": "stdout",
     "output_type": "stream",
     "text": [
      "chosen option: test\n",
      "EPISODE 3236 of 3236..."
     ]
    }
   ],
   "source": [
    "mimic_pat_test, mimic_stays_test = dm.mimic_cohort_demographics('data/mimic/aug/mortality', 'test')"
   ]
  },
  {
   "cell_type": "code",
   "execution_count": 27,
   "metadata": {},
   "outputs": [
    {
     "name": "stdout",
     "output_type": "stream",
     "text": [
      "total_otherins          127 (3.9)\n",
      "total_private          1016 (31.4)\n",
      "total_medicaid          242 (7.5)\n",
      "total_medicare         1851 (57.2)\n",
      "total_other             439 (13.6)\n",
      "total_white            2333 (72.1)\n",
      "total_hispanic          110 (3.4)\n",
      "total_black             291 (9.0)\n",
      "total_asian              63 (1.9)\n",
      "total_seniors2          186 (5.7)\n",
      "total_seniors1         1253 (38.7)\n",
      "total_adults3          1160 (35.8)\n",
      "total_adults2           496 (15.3)\n",
      "total_adults1           141 (4.4)\n",
      "total_M                1797 (55.5)\n",
      "total_F                1439 (44.5)\n",
      "total                  3236 (100.0)\n",
      "FOR REPORTING:\n",
      "127 (3.9)\n",
      "1016 (31.4)\n",
      "242 (7.5)\n",
      "1851 (57.2)\n",
      "439 (13.6)\n",
      "2333 (72.1)\n",
      "110 (3.4)\n",
      "291 (9.0)\n",
      "63 (1.9)\n",
      "186 (5.7)\n",
      "1253 (38.7)\n",
      "1160 (35.8)\n",
      "496 (15.3)\n",
      "141 (4.4)\n",
      "1797 (55.5)\n",
      "1439 (44.5)\n",
      "3236 (100.0)\n"
     ]
    }
   ],
   "source": [
    "dm.demographic_stats(mimic_stays_test, report=True)"
   ]
  },
  {
   "cell_type": "code",
   "execution_count": 11,
   "metadata": {},
   "outputs": [
    {
     "name": "stdout",
     "output_type": "stream",
     "text": [
      "ihm_otherins     11.02\n",
      "ihm_unknown       nan\n",
      "ihm_self         15.79\n",
      "ihm_private      8.27\n",
      "ihm_medicaid     8.26\n",
      "ihm_medicare     13.83\n",
      "ihm_gov          8.99\n",
      "ihm_other        14.58\n",
      "ihm_white        11.36\n",
      "ihm_hispanic     7.27\n",
      "ihm_black        9.62\n",
      "ihm_asian        14.29\n",
      "ihm_seniors2     23.66\n",
      "ihm_seniors1     13.81\n",
      "ihm_adults3      9.40\n",
      "ihm_adults2      9.07\n",
      "ihm_adults1      2.13\n",
      "ihm_teens         nan\n",
      "ihm_kids          nan\n",
      "ihm_neo           nan\n",
      "ihm_M            10.96\n",
      "ihm_F            12.30\n",
      "ihm_total_ratio  13.07\n",
      "ihm_total        11.56\n",
      "FOR REPORTING:\n",
      "11.0\\%\n",
      " nan\\%\n",
      "15.8\\%\n",
      " 8.3\\%\n",
      " 8.3\\%\n",
      "13.8\\%\n",
      " 9.0\\%\n",
      "14.6\\%\n",
      "11.4\\%\n",
      " 7.3\\%\n",
      " 9.6\\%\n",
      "14.3\\%\n",
      "23.7\\%\n",
      "13.8\\%\n",
      " 9.4\\%\n",
      " 9.1\\%\n",
      " 2.1\\%\n",
      " nan\\%\n",
      " nan\\%\n",
      " nan\\%\n",
      "11.0\\%\n",
      "12.3\\%\n",
      "13.1\\%\n",
      "11.6\\%\n"
     ]
    }
   ],
   "source": [
    "dm.IHM_stats(mimic_stays_test, report=True)"
   ]
  },
  {
   "cell_type": "markdown",
   "metadata": {},
   "source": [
    "## STARR - IHM cohort"
   ]
  },
  {
   "cell_type": "markdown",
   "metadata": {},
   "source": [
    "#### Total"
   ]
  },
  {
   "cell_type": "code",
   "execution_count": 28,
   "metadata": {},
   "outputs": [
    {
     "name": "stdout",
     "output_type": "stream",
     "text": [
      "chosen option: total\n",
      "EPISODE 6407 of 6407..."
     ]
    }
   ],
   "source": [
    "reload(dm)\n",
    "starr_pat_total, starr_stays_total =  dm.starr_cohort_demographics('data/starr', 'total')"
   ]
  },
  {
   "cell_type": "code",
   "execution_count": 29,
   "metadata": {},
   "outputs": [
    {
     "name": "stdout",
     "output_type": "stream",
     "text": [
      "total_otherins          267 (4.4)\n",
      "total_private          1711 (28.2)\n",
      "total_medicaid          944 (15.6)\n",
      "total_medicare         3144 (51.8)\n",
      "total_other             756 (12.5)\n",
      "total_white            3199 (52.7)\n",
      "total_hispanic          945 (15.6)\n",
      "total_black             329 (5.4)\n",
      "total_asian             837 (13.8)\n",
      "total_seniors2          176 (2.9)\n",
      "total_seniors1         2076 (34.2)\n",
      "total_adults3          2660 (43.9)\n",
      "total_adults2           879 (14.5)\n",
      "total_adults1           275 (4.5)\n",
      "total_M                3581 (59.0)\n",
      "total_F                2485 (41.0)\n",
      "total                  6066 (100.0)\n"
     ]
    }
   ],
   "source": [
    "dm.demographic_stats(starr_pat_total, report=False)"
   ]
  },
  {
   "cell_type": "code",
   "execution_count": 31,
   "metadata": {},
   "outputs": [
    {
     "name": "stdout",
     "output_type": "stream",
     "text": [
      "total_otherins          280 (4.4)\n",
      "total_private          1800 (28.1)\n",
      "total_medicaid         1006 (15.7)\n",
      "total_medicare         3321 (51.8)\n",
      "total_other             794 (12.4)\n",
      "total_white            3361 (52.5)\n",
      "total_hispanic         1015 (15.8)\n",
      "total_black             354 (5.5)\n",
      "total_asian             883 (13.8)\n",
      "total_seniors2          183 (2.9)\n",
      "total_seniors1         2161 (33.7)\n",
      "total_adults3          2814 (43.9)\n",
      "total_adults2           958 (15.0)\n",
      "total_adults1           291 (4.5)\n",
      "total_M                3766 (58.8)\n",
      "total_F                2641 (41.2)\n",
      "total                  6407 (100.0)\n"
     ]
    }
   ],
   "source": [
    "dm.demographic_stats(starr_stays_total, report=False)"
   ]
  },
  {
   "cell_type": "code",
   "execution_count": 27,
   "metadata": {},
   "outputs": [
    {
     "name": "stdout",
     "output_type": "stream",
     "text": [
      "ihm_otherins     12.14\n",
      "ihm_unknown      12.14\n",
      "ihm_self          nan\n",
      "ihm_private      9.11\n",
      "ihm_medicaid     10.34\n",
      "ihm_medicare     10.54\n",
      "ihm_gov           nan\n",
      "ihm_other        13.48\n",
      "ihm_white        8.66\n",
      "ihm_hispanic     11.43\n",
      "ihm_black        9.32\n",
      "ihm_asian        11.89\n",
      "ihm_seniors2     20.77\n",
      "ihm_seniors1     11.71\n",
      "ihm_adults3      9.10\n",
      "ihm_adults2      8.77\n",
      "ihm_adults1      7.22\n",
      "ihm_teens         nan\n",
      "ihm_kids          nan\n",
      "ihm_neo           nan\n",
      "ihm_M            9.19\n",
      "ihm_F            11.59\n",
      "ihm_total        10.18\n",
      "FOR REPORTING:\n",
      "12.1\\%\n",
      "12.1\\%\n",
      " nan\\%\n",
      " 9.1\\%\n",
      "10.3\\%\n",
      "10.5\\%\n",
      " nan\\%\n",
      "13.5\\%\n",
      " 8.7\\%\n",
      "11.4\\%\n",
      " 9.3\\%\n",
      "11.9\\%\n",
      "20.8\\%\n",
      "11.7\\%\n",
      " 9.1\\%\n",
      " 8.8\\%\n",
      " 7.2\\%\n",
      " nan\\%\n",
      " nan\\%\n",
      " nan\\%\n",
      " 9.2\\%\n",
      "11.6\\%\n",
      "10.2\\%\n"
     ]
    }
   ],
   "source": [
    "dm.IHM_stats(starr_stays_total, report=True)"
   ]
  },
  {
   "cell_type": "markdown",
   "metadata": {},
   "source": [
    "#### Train"
   ]
  },
  {
   "cell_type": "code",
   "execution_count": 12,
   "metadata": {},
   "outputs": [
    {
     "name": "stdout",
     "output_type": "stream",
     "text": [
      "chosen option: train\n",
      "EPISODE 4628 of 4628..."
     ]
    }
   ],
   "source": [
    "starr_pat_train, starr_stays_train = dm.starr_cohort_demographics('data/starr', 'train')"
   ]
  },
  {
   "cell_type": "code",
   "execution_count": 30,
   "metadata": {},
   "outputs": [
    {
     "name": "stdout",
     "output_type": "stream",
     "text": [
      "total_otherins          191 (4.1)\n",
      "total_private          1297 (28.0)\n",
      "total_medicaid          730 (15.8)\n",
      "total_medicare         2410 (52.1)\n",
      "total_other             563 (12.2)\n",
      "total_white            2457 (53.1)\n",
      "total_hispanic          734 (15.9)\n",
      "total_black             248 (5.4)\n",
      "total_asian             626 (13.5)\n",
      "total_seniors2          136 (2.9)\n",
      "total_seniors1         1549 (33.5)\n",
      "total_adults3          2037 (44.0)\n",
      "total_adults2           692 (15.0)\n",
      "total_adults1           214 (4.6)\n",
      "total_M                2729 (59.0)\n",
      "total_F                1899 (41.0)\n",
      "total                  4628 (100.0)\n",
      "FOR REPORTING:\n",
      "191 (4.1)\n",
      "1297 (28.0)\n",
      "730 (15.8)\n",
      "2410 (52.1)\n",
      "563 (12.2)\n",
      "2457 (53.1)\n",
      "734 (15.9)\n",
      "248 (5.4)\n",
      "626 (13.5)\n",
      "136 (2.9)\n",
      "1549 (33.5)\n",
      "2037 (44.0)\n",
      "692 (15.0)\n",
      "214 (4.6)\n",
      "2729 (59.0)\n",
      "1899 (41.0)\n",
      "4628 (100.0)\n"
     ]
    }
   ],
   "source": [
    "dm.demographic_stats(starr_stays_train, report=True)"
   ]
  },
  {
   "cell_type": "code",
   "execution_count": 14,
   "metadata": {},
   "outputs": [
    {
     "name": "stdout",
     "output_type": "stream",
     "text": [
      "ihm_otherins     12.57\n",
      "ihm_unknown      12.57\n",
      "ihm_self          nan\n",
      "ihm_private      9.10\n",
      "ihm_medicaid     10.14\n",
      "ihm_medicare     10.58\n",
      "ihm_gov           nan\n",
      "ihm_other        14.56\n",
      "ihm_white        8.47\n",
      "ihm_hispanic     10.76\n",
      "ihm_black        10.08\n",
      "ihm_asian        12.30\n",
      "ihm_seniors2     21.32\n",
      "ihm_seniors1     11.30\n",
      "ihm_adults3      9.82\n",
      "ihm_adults2      7.51\n",
      "ihm_adults1      7.01\n",
      "ihm_teens         nan\n",
      "ihm_kids          nan\n",
      "ihm_neo           nan\n",
      "ihm_M            9.34\n",
      "ihm_F            11.37\n",
      "ihm_total_ratio  11.33\n",
      "ihm_total        10.18\n",
      "FOR REPORTING:\n",
      "12.6\\%\n",
      "12.6\\%\n",
      " nan\\%\n",
      " 9.1\\%\n",
      "10.1\\%\n",
      "10.6\\%\n",
      " nan\\%\n",
      "14.6\\%\n",
      " 8.5\\%\n",
      "10.8\\%\n",
      "10.1\\%\n",
      "12.3\\%\n",
      "21.3\\%\n",
      "11.3\\%\n",
      " 9.8\\%\n",
      " 7.5\\%\n",
      " 7.0\\%\n",
      " nan\\%\n",
      " nan\\%\n",
      " nan\\%\n",
      " 9.3\\%\n",
      "11.4\\%\n",
      "11.3\\%\n",
      "10.2\\%\n"
     ]
    }
   ],
   "source": [
    "dm.IHM_stats(starr_stays_train, report=True)"
   ]
  },
  {
   "cell_type": "markdown",
   "metadata": {},
   "source": [
    "#### Test"
   ]
  },
  {
   "cell_type": "code",
   "execution_count": 15,
   "metadata": {},
   "outputs": [
    {
     "name": "stdout",
     "output_type": "stream",
     "text": [
      "chosen option: test\n",
      "EPISODE 962 of 962..."
     ]
    }
   ],
   "source": [
    "starr_pat_test, starr_stays_test = dm.starr_cohort_demographics('data/starr', 'test')"
   ]
  },
  {
   "cell_type": "code",
   "execution_count": 32,
   "metadata": {},
   "outputs": [
    {
     "name": "stdout",
     "output_type": "stream",
     "text": [
      "total_otherins           59 (6.1)\n",
      "total_private           266 (27.7)\n",
      "total_medicaid          158 (16.4)\n",
      "total_medicare          479 (49.8)\n",
      "total_other             129 (13.4)\n",
      "total_white             478 (49.7)\n",
      "total_hispanic          154 (16.0)\n",
      "total_black              68 (7.1)\n",
      "total_asian             133 (13.8)\n",
      "total_seniors2           17 (1.8)\n",
      "total_seniors1          320 (33.3)\n",
      "total_adults3           439 (45.6)\n",
      "total_adults2           141 (14.7)\n",
      "total_adults1            45 (4.7)\n",
      "total_M                 559 (58.1)\n",
      "total_F                 403 (41.9)\n",
      "total                   962 (100.0)\n",
      "FOR REPORTING:\n",
      "59 (6.1)\n",
      "266 (27.7)\n",
      "158 (16.4)\n",
      "479 (49.8)\n",
      "129 (13.4)\n",
      "478 (49.7)\n",
      "154 (16.0)\n",
      "68 (7.1)\n",
      "133 (13.8)\n",
      "17 (1.8)\n",
      "320 (33.3)\n",
      "439 (45.6)\n",
      "141 (14.7)\n",
      "45 (4.7)\n",
      "559 (58.1)\n",
      "403 (41.9)\n",
      "962 (100.0)\n"
     ]
    }
   ],
   "source": [
    "dm.demographic_stats(starr_stays_test, report=True)"
   ]
  },
  {
   "cell_type": "code",
   "execution_count": 17,
   "metadata": {},
   "outputs": [
    {
     "name": "stdout",
     "output_type": "stream",
     "text": [
      "ihm_otherins     10.17\n",
      "ihm_unknown      10.17\n",
      "ihm_self          nan\n",
      "ihm_private      10.15\n",
      "ihm_medicaid     10.76\n",
      "ihm_medicare     10.02\n",
      "ihm_gov           nan\n",
      "ihm_other        10.08\n",
      "ihm_white        9.41\n",
      "ihm_hispanic     11.69\n",
      "ihm_black        7.35\n",
      "ihm_asian        12.78\n",
      "ihm_seniors2     11.76\n",
      "ihm_seniors1     11.88\n",
      "ihm_adults3      8.43\n",
      "ihm_adults2      13.48\n",
      "ihm_adults1      4.44\n",
      "ihm_teens         nan\n",
      "ihm_kids          nan\n",
      "ihm_neo           nan\n",
      "ihm_M            8.41\n",
      "ihm_F            12.66\n",
      "ihm_total_ratio  11.34\n",
      "ihm_total        10.19\n",
      "FOR REPORTING:\n",
      "10.2\\%\n",
      "10.2\\%\n",
      " nan\\%\n",
      "10.2\\%\n",
      "10.8\\%\n",
      "10.0\\%\n",
      " nan\\%\n",
      "10.1\\%\n",
      " 9.4\\%\n",
      "11.7\\%\n",
      " 7.3\\%\n",
      "12.8\\%\n",
      "11.8\\%\n",
      "11.9\\%\n",
      " 8.4\\%\n",
      "13.5\\%\n",
      " 4.4\\%\n",
      " nan\\%\n",
      " nan\\%\n",
      " nan\\%\n",
      " 8.4\\%\n",
      "12.7\\%\n",
      "11.3\\%\n",
      "10.2\\%\n"
     ]
    }
   ],
   "source": [
    "dm.IHM_stats(starr_stays_test, report=True)"
   ]
  },
  {
   "cell_type": "code",
   "execution_count": null,
   "metadata": {},
   "outputs": [],
   "source": []
  }
 ],
 "metadata": {
  "kernelspec": {
   "display_name": "Python 3",
   "language": "python",
   "name": "python3"
  },
  "language_info": {
   "codemirror_mode": {
    "name": "ipython",
    "version": 3
   },
   "file_extension": ".py",
   "mimetype": "text/x-python",
   "name": "python",
   "nbconvert_exporter": "python",
   "pygments_lexer": "ipython3",
   "version": "3.6.6"
  }
 },
 "nbformat": 4,
 "nbformat_minor": 2
}

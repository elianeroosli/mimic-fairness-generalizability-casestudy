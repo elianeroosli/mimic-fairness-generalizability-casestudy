{
 "cells": [
  {
   "cell_type": "markdown",
   "metadata": {},
   "source": [
    "# Build cohort: MIMIC AUGMENTED"
   ]
  },
  {
   "cell_type": "code",
   "execution_count": 1,
   "metadata": {},
   "outputs": [],
   "source": [
    "import pandas as pd\n",
    "import sys\n",
    "if sys.version_info[0] == 3:\n",
    "    from importlib import reload\n",
    "import warnings\n",
    "import os\n",
    "os.chdir('/share/pi/boussard/eroosli_work/benchmarking')\n",
    "from mimic3benchmark import demographics as dm\n",
    "\n",
    "warnings.filterwarnings('ignore')"
   ]
  },
  {
   "cell_type": "markdown",
   "metadata": {},
   "source": [
    "### Step 2b: Compile timeseries of events \n",
    "Included events are based on 17 physiological variables; a new timeseries is constructed for each individual episode (ICU stay) during a hospitalization "
   ]
  },
  {
   "cell_type": "code",
   "execution_count": 2,
   "metadata": {},
   "outputs": [
    {
     "name": "stdout",
     "output_type": "stream",
     "text": [
      "SUBJECT 33798 of 33798...\n",
      "problems with patients: 38\n",
      "problems with stays: 212\n",
      "reading error: 0\n",
      "no valid events: 38\n",
      "no data: 212\n"
     ]
    }
   ],
   "source": [
    "import warnings\n",
    "warnings.filterwarnings('ignore')\n",
    "%run mimic3benchmark/scripts/extract_episodes_from_subjects.py data/subjects_v3 --add_demographics True"
   ]
  },
  {
   "cell_type": "code",
   "execution_count": 3,
   "metadata": {},
   "outputs": [
    {
     "name": "stdout",
     "output_type": "stream",
     "text": [
      "33798\n",
      "SUBJECT 115 of 33798...EMPTY: data/subjects_v3/29732\n",
      "SUBJECT 761 of 33798...EMPTY: data/subjects_v3/23987\n",
      "SUBJECT 1531 of 33798...EMPTY: data/subjects_v3/11373\n",
      "SUBJECT 2823 of 33798...EMPTY: data/subjects_v3/13868\n",
      "SUBJECT 3345 of 33798...EMPTY: data/subjects_v3/7260\n",
      "SUBJECT 5473 of 33798...EMPTY: data/subjects_v3/14885\n",
      "SUBJECT 6289 of 33798...EMPTY: data/subjects_v3/22994\n",
      "SUBJECT 10690 of 33798...EMPTY: data/subjects_v3/17201\n",
      "SUBJECT 11541 of 33798...EMPTY: data/subjects_v3/30675\n",
      "SUBJECT 11584 of 33798...EMPTY: data/subjects_v3/8257\n",
      "SUBJECT 11611 of 33798...EMPTY: data/subjects_v3/7119\n",
      "SUBJECT 11699 of 33798...EMPTY: data/subjects_v3/1811\n",
      "SUBJECT 12170 of 33798...EMPTY: data/subjects_v3/4063\n",
      "SUBJECT 12214 of 33798...EMPTY: data/subjects_v3/21815\n",
      "SUBJECT 12708 of 33798...EMPTY: data/subjects_v3/21099\n",
      "SUBJECT 12855 of 33798...EMPTY: data/subjects_v3/22840\n",
      "SUBJECT 13765 of 33798...EMPTY: data/subjects_v3/11216\n",
      "SUBJECT 14560 of 33798...EMPTY: data/subjects_v3/29285\n",
      "SUBJECT 15543 of 33798...EMPTY: data/subjects_v3/11604\n",
      "SUBJECT 15598 of 33798...EMPTY: data/subjects_v3/9838\n",
      "SUBJECT 17740 of 33798...EMPTY: data/subjects_v3/11143\n",
      "SUBJECT 18157 of 33798...EMPTY: data/subjects_v3/16819\n",
      "SUBJECT 19636 of 33798...EMPTY: data/subjects_v3/46057\n",
      "SUBJECT 21754 of 33798...EMPTY: data/subjects_v3/11011\n",
      "SUBJECT 22771 of 33798...EMPTY: data/subjects_v3/1399\n",
      "SUBJECT 23458 of 33798...EMPTY: data/subjects_v3/18649\n",
      "SUBJECT 23562 of 33798...EMPTY: data/subjects_v3/24026\n",
      "SUBJECT 23806 of 33798...EMPTY: data/subjects_v3/12229\n",
      "SUBJECT 24220 of 33798...EMPTY: data/subjects_v3/26455\n",
      "SUBJECT 25445 of 33798...EMPTY: data/subjects_v3/11656\n",
      "SUBJECT 25870 of 33798...EMPTY: data/subjects_v3/31679\n",
      "SUBJECT 26101 of 33798...EMPTY: data/subjects_v3/5555\n",
      "SUBJECT 28536 of 33798...EMPTY: data/subjects_v3/16913\n",
      "SUBJECT 30217 of 33798...EMPTY: data/subjects_v3/61106\n",
      "SUBJECT 31182 of 33798...EMPTY: data/subjects_v3/10358\n",
      "SUBJECT 31523 of 33798...EMPTY: data/subjects_v3/71922\n",
      "SUBJECT 32528 of 33798...EMPTY: data/subjects_v3/22231\n",
      "SUBJECT 33664 of 33798...EMPTY: data/subjects_v3/4468\n",
      "SUBJECT 33798 of 33798..."
     ]
    }
   ],
   "source": [
    "df_patients_root, df_stays_root = dm.rootcohort_demographics('data/subjects_v3')"
   ]
  },
  {
   "cell_type": "code",
   "execution_count": 4,
   "metadata": {},
   "outputs": [
    {
     "name": "stdout",
     "output_type": "stream",
     "text": [
      "total_self              472 (1.40)\n",
      "total_private         11437 (33.88)\n",
      "total_medicaid         2779 (8.23)\n",
      "total_medicare        18083 (53.56)\n",
      "total_gov               983 (2.91)\n",
      "total_other            4990 (14.78)\n",
      "total_white           24156 (71.55)\n",
      "total_hispanic         1127 (3.34)\n",
      "total_black            2658 (7.87)\n",
      "total_asian             823 (2.44)\n",
      "total_seniors2         1776 (5.26)\n",
      "total_seniors1        12178 (36.07)\n",
      "total_adults3         12579 (37.26)\n",
      "total_adults2          5449 (16.14)\n",
      "total_adults1          1772 (5.25)\n",
      "total_teens               0 (0.00)\n",
      "total_kids                0 (0.00)\n",
      "total_neo                 0 (0.00)\n",
      "total_M               19017 (56.33)\n",
      "total_F               14737 (43.65)\n",
      "total                 33760 (100.00)\n"
     ]
    }
   ],
   "source": [
    "reload(dm)\n",
    "dm.demographic_stats(df_patients_root, report=False)"
   ]
  },
  {
   "cell_type": "code",
   "execution_count": 5,
   "metadata": {},
   "outputs": [
    {
     "name": "stdout",
     "output_type": "stream",
     "text": [
      "total_self              503 (1.20)\n",
      "total_private         13455 (32.02)\n",
      "total_medicaid         3745 (8.91)\n",
      "total_medicare        23143 (55.07)\n",
      "total_gov              1173 (2.79)\n",
      "total_other            5414 (12.88)\n",
      "total_white           30071 (71.56)\n",
      "total_hispanic         1475 (3.51)\n",
      "total_black            4062 (9.67)\n",
      "total_asian             997 (2.37)\n",
      "total_seniors2         2231 (5.31)\n",
      "total_seniors1        14871 (35.39)\n",
      "total_adults3         15990 (38.05)\n",
      "total_adults2          6888 (16.39)\n",
      "total_adults1          2039 (4.85)\n",
      "total_teens               0 (0.00)\n",
      "total_kids                0 (0.00)\n",
      "total_neo                 0 (0.00)\n",
      "total_M               23484 (55.88)\n",
      "total_F               18535 (44.10)\n",
      "total                 42025 (100.00)\n"
     ]
    }
   ],
   "source": [
    "dm.demographic_stats(df_stays_root, report=False)"
   ]
  },
  {
   "cell_type": "markdown",
   "metadata": {},
   "source": [
    "## Step 3: Split into train and test sets"
   ]
  },
  {
   "cell_type": "code",
   "execution_count": 6,
   "metadata": {},
   "outputs": [],
   "source": [
    "%run mimic3benchmark/scripts/split_train_and_test.py data/subjects_v3"
   ]
  },
  {
   "cell_type": "markdown",
   "metadata": {},
   "source": [
    "## Step 4: Create specific benchmark datasets"
   ]
  },
  {
   "cell_type": "markdown",
   "metadata": {},
   "source": [
    "### Step 4a: In-hospital mortality"
   ]
  },
  {
   "cell_type": "markdown",
   "metadata": {},
   "source": [
    "#### Prepare task-specific train and test set"
   ]
  },
  {
   "cell_type": "code",
   "execution_count": 2,
   "metadata": {},
   "outputs": [
    {
     "name": "stdout",
     "output_type": "stream",
     "text": [
      "PARTITION FOR: test\n",
      "SUBJECT 1861 of 5070...EMPTY PATIENT\n",
      "SUBJECT 4251 of 5070...EMPTY PATIENT\n",
      "SUBJECT 4488 of 5070...EMPTY PATIENT\n",
      "SUBJECT 5070 of 5070...\n",
      "TOTAL NUMBER ICU STAYS: 3236\n",
      "TOTAL NUMBER PATIENTS: 2763\n",
      "GENDER DISTRIBUTION: {1: 1229, 2: 1534, 3: 0, 0: 0}\n",
      "RATIO FEMALES: 0.4448\n",
      "RACE DISTRIBUTION: {0: 419, 1: 54, 2: 226, 3: 95, 4: 1969}\n",
      "AGE DISTRIBUTION: {18: 7, 19: 9, 20: 8, 21: 11, 22: 12, 23: 7, 24: 8, 25: 12, 26: 10, 27: 10, 28: 16, 29: 10, 30: 12, 31: 7, 32: 10, 33: 7, 34: 20, 35: 11, 36: 18, 37: 22, 38: 14, 39: 19, 40: 21, 41: 24, 42: 18, 43: 30, 44: 29, 45: 27, 46: 30, 47: 40, 48: 27, 49: 33, 50: 30, 51: 43, 52: 40, 53: 44, 54: 40, 55: 47, 56: 50, 57: 46, 58: 57, 59: 45, 60: 51, 61: 55, 62: 52, 63: 45, 64: 52, 65: 59, 66: 60, 67: 46, 68: 45, 69: 59, 70: 47, 71: 69, 72: 65, 73: 58, 74: 58, 75: 52, 76: 69, 77: 82, 78: 53, 79: 80, 80: 61, 81: 62, 82: 57, 83: 47, 84: 55, 85: 58, 86: 47, 87: 41, 88: 33, 89: 4, 90: 160}\n",
      "PARTITION FOR: train\n",
      "SUBJECT 96 of 28728...EMPTY PATIENT\n",
      "SUBJECT 651 of 28728...EMPTY PATIENT\n",
      "SUBJECT 1310 of 28728...EMPTY PATIENT\n",
      "SUBJECT 2395 of 28728...EMPTY PATIENT\n",
      "SUBJECT 2841 of 28728...EMPTY PATIENT\n",
      "SUBJECT 4676 of 28728...EMPTY PATIENT\n",
      "SUBJECT 5381 of 28728...EMPTY PATIENT\n",
      "SUBJECT 9126 of 28728...EMPTY PATIENT\n",
      "SUBJECT 9857 of 28728...EMPTY PATIENT\n",
      "SUBJECT 9894 of 28728...EMPTY PATIENT\n",
      "SUBJECT 9916 of 28728...EMPTY PATIENT\n",
      "SUBJECT 9990 of 28728...EMPTY PATIENT\n",
      "SUBJECT 10392 of 28728...EMPTY PATIENT\n",
      "SUBJECT 10433 of 28728...EMPTY PATIENT\n",
      "SUBJECT 10965 of 28728...EMPTY PATIENT\n",
      "SUBJECT 11748 of 28728...EMPTY PATIENT\n",
      "SUBJECT 12412 of 28728...EMPTY PATIENT\n",
      "SUBJECT 13254 of 28728...EMPTY PATIENT\n",
      "SUBJECT 13300 of 28728...EMPTY PATIENT\n",
      "SUBJECT 15137 of 28728...EMPTY PATIENT\n",
      "SUBJECT 15502 of 28728...EMPTY PATIENT\n",
      "SUBJECT 16753 of 28728...EMPTY PATIENT\n",
      "SUBJECT 18546 of 28728...EMPTY PATIENT\n",
      "SUBJECT 19418 of 28728...EMPTY PATIENT\n",
      "SUBJECT 20002 of 28728...EMPTY PATIENT\n",
      "SUBJECT 20091 of 28728...EMPTY PATIENT\n",
      "SUBJECT 20301 of 28728...EMPTY PATIENT\n",
      "SUBJECT 20658 of 28728...EMPTY PATIENT\n",
      "SUBJECT 21677 of 28728...EMPTY PATIENT\n",
      "SUBJECT 22029 of 28728...EMPTY PATIENT\n",
      "SUBJECT 22226 of 28728...EMPTY PATIENT\n",
      "SUBJECT 26543 of 28728...EMPTY PATIENT\n",
      "SUBJECT 26818 of 28728...EMPTY PATIENT\n",
      "SUBJECT 27664 of 28728...EMPTY PATIENT\n",
      "SUBJECT 28619 of 28728...EMPTY PATIENT\n",
      "SUBJECT 28728 of 28728...\n",
      "TOTAL NUMBER ICU STAYS: 17903\n",
      "TOTAL NUMBER PATIENTS: 15331\n",
      "GENDER DISTRIBUTION: {1: 6861, 2: 8470, 3: 0, 0: 0}\n",
      "RATIO FEMALES: 0.4475\n",
      "RACE DISTRIBUTION: {0: 2326, 1: 383, 2: 1254, 3: 472, 4: 10896}\n",
      "AGE DISTRIBUTION: {18: 47, 19: 40, 20: 47, 21: 69, 22: 60, 23: 63, 24: 50, 25: 65, 26: 59, 27: 49, 28: 60, 29: 52, 30: 53, 31: 44, 32: 72, 33: 62, 34: 64, 35: 66, 36: 68, 37: 72, 38: 83, 39: 105, 40: 115, 41: 121, 42: 137, 43: 133, 44: 140, 45: 176, 46: 180, 47: 173, 48: 207, 49: 188, 50: 226, 51: 228, 52: 235, 53: 236, 54: 249, 55: 254, 56: 244, 57: 287, 58: 283, 59: 271, 60: 311, 61: 300, 62: 319, 63: 308, 64: 309, 65: 296, 66: 305, 67: 323, 68: 333, 69: 338, 70: 299, 71: 310, 72: 338, 73: 297, 74: 308, 75: 358, 76: 335, 77: 367, 78: 382, 79: 344, 80: 353, 81: 354, 82: 300, 83: 347, 84: 351, 85: 249, 86: 251, 87: 225, 88: 184, 89: 11, 90: 793}\n"
     ]
    }
   ],
   "source": [
    "%run mimic3benchmark/scripts/create_in_hospital_mortality.py data/subjects_v3 data/subjects_v3/mortality"
   ]
  },
  {
   "cell_type": "code",
   "execution_count": 4,
   "metadata": {},
   "outputs": [
    {
     "name": "stdout",
     "output_type": "stream",
     "text": [
      "21139\n",
      "EPISODE 21139 of 21139..."
     ]
    }
   ],
   "source": [
    "reload(dm)\n",
    "df_patients_ihm, df_stays_ihm = dm.taskcohort_demographics('data/subjects_v3/mortality/demographics')"
   ]
  },
  {
   "cell_type": "code",
   "execution_count": 7,
   "metadata": {},
   "outputs": [
    {
     "name": "stdout",
     "output_type": "stream",
     "text": [
      "total_self              183 (1.01)\n",
      "total_private          5601 (30.96)\n",
      "total_medicaid         1489 (8.23)\n",
      "total_medicare        10337 (57.13)\n",
      "total_gov               484 (2.67)\n",
      "total_other            2758 (15.24)\n",
      "total_white           12851 (71.02)\n",
      "total_hispanic          568 (3.14)\n",
      "total_black            1480 (8.18)\n",
      "total_asian             437 (2.42)\n",
      "total_seniors2          953 (5.27)\n",
      "total_seniors1         7043 (38.92)\n",
      "total_adults3          6636 (36.68)\n",
      "total_adults2          2680 (14.81)\n",
      "total_adults1           782 (4.32)\n",
      "total_teens               0 (0.00)\n",
      "total_kids                0 (0.00)\n",
      "total_neo                 0 (0.00)\n",
      "total_M               10004 (55.29)\n",
      "total_F                8090 (44.71)\n",
      "total                 18094 (100.00)\n",
      "FOR REPORTING:\n",
      "183 (1.01)\n",
      "5601 (30.96)\n",
      "1489 (8.23)\n",
      "10337 (57.13)\n",
      "484 (2.67)\n",
      "2758 (15.24)\n",
      "12851 (71.02)\n",
      "568 (3.14)\n",
      "1480 (8.18)\n",
      "437 (2.42)\n",
      "953 (5.27)\n",
      "7043 (38.92)\n",
      "6636 (36.68)\n",
      "2680 (14.81)\n",
      "782 (4.32)\n",
      "0 (0.00)\n",
      "0 (0.00)\n",
      "0 (0.00)\n",
      "10004 (55.29)\n",
      "8090 (44.71)\n",
      "18094 (100.00)\n"
     ]
    }
   ],
   "source": [
    "dm.demographic_stats(df_patients_ihm, report=True)"
   ]
  },
  {
   "cell_type": "code",
   "execution_count": 8,
   "metadata": {},
   "outputs": [
    {
     "name": "stdout",
     "output_type": "stream",
     "text": [
      "total_self              189 (0.89)\n",
      "total_private          6326 (29.93)\n",
      "total_medicaid         1813 (8.58)\n",
      "total_medicare        12286 (58.12)\n",
      "total_gov               525 (2.48)\n",
      "total_other            2909 (13.76)\n",
      "total_white           15043 (71.16)\n",
      "total_hispanic          679 (3.21)\n",
      "total_black            2016 (9.54)\n",
      "total_asian             492 (2.33)\n",
      "total_seniors2         1109 (5.25)\n",
      "total_seniors1         8065 (38.15)\n",
      "total_adults3          7921 (37.47)\n",
      "total_adults2          3171 (15.00)\n",
      "total_adults1           873 (4.13)\n",
      "total_teens               0 (0.00)\n",
      "total_kids                0 (0.00)\n",
      "total_neo                 0 (0.00)\n",
      "total_M               11629 (55.01)\n",
      "total_F                9510 (44.99)\n",
      "total                 21139 (100.00)\n",
      "FOR REPORTING:\n",
      "189 (0.89)\n",
      "6326 (29.93)\n",
      "1813 (8.58)\n",
      "12286 (58.12)\n",
      "525 (2.48)\n",
      "2909 (13.76)\n",
      "15043 (71.16)\n",
      "679 (3.21)\n",
      "2016 (9.54)\n",
      "492 (2.33)\n",
      "1109 (5.25)\n",
      "8065 (38.15)\n",
      "7921 (37.47)\n",
      "3171 (15.00)\n",
      "873 (4.13)\n",
      "0 (0.00)\n",
      "0 (0.00)\n",
      "0 (0.00)\n",
      "11629 (55.01)\n",
      "9510 (44.99)\n",
      "21139 (100.00)\n"
     ]
    }
   ],
   "source": [
    "dm.demographic_stats(df_stays_ihm, report=True)"
   ]
  },
  {
   "cell_type": "markdown",
   "metadata": {},
   "source": [
    "#### Split into train and validation set"
   ]
  },
  {
   "cell_type": "code",
   "execution_count": 11,
   "metadata": {},
   "outputs": [],
   "source": [
    "%run mimic3models/split_train_val.py data/subjects_v2/mortality"
   ]
  },
  {
   "cell_type": "markdown",
   "metadata": {},
   "source": [
    "### Step 4b: Repeat procedure for other three tasks"
   ]
  },
  {
   "cell_type": "code",
   "execution_count": null,
   "metadata": {},
   "outputs": [],
   "source": []
  }
 ],
 "metadata": {
  "kernelspec": {
   "display_name": "Python 3",
   "language": "python",
   "name": "python3"
  },
  "language_info": {
   "codemirror_mode": {
    "name": "ipython",
    "version": 3
   },
   "file_extension": ".py",
   "mimetype": "text/x-python",
   "name": "python",
   "nbconvert_exporter": "python",
   "pygments_lexer": "ipython3",
   "version": "3.6.6"
  }
 },
 "nbformat": 4,
 "nbformat_minor": 2
}
